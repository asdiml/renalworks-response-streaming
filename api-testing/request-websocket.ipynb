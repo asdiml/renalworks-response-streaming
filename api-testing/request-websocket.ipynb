{
 "cells": [
  {
   "cell_type": "code",
   "execution_count": 1,
   "metadata": {},
   "outputs": [
    {
     "name": "stdout",
     "output_type": "stream",
     "text": [
      "Based on the clinical notes provided, I can summarize the patient's condition as follows:\n",
      "1. <b>Overall Status</b>:     <ul>         <li>The patient is generally stable across multiple dialysis sessions</li>         <li>No major complaints or complications reported</li>     </ul>\n",
      "2. <b>Dialysis Sessions</b>:     <ul>         <li>Patient completed a 4-hour hemodialysis session without issues</li>         <li>Pre-dialysis notes indicate patient was stable before treatments</li>         <li>One session used profiling linear, starting at 1.15L/hr</li>     </ul>\n",
      "3. <b>Infection Status</b>:     <ul>         <li>No signs of infection observed</li>         <li>Specifically noted as having no signs of COVID-19</li>         <li>Patient reported as afebrile (no fever)</li>     </ul>\n",
      "4. <b>Other Observations</b>:     <ul>         <li>No signs or symptoms of edema seen</li>         <li>Patient appears to be tolerating treatments well</li>     </ul>\n",
      "<table>     <thead>     <tr>         <th>Date</th>         <th>Type</th>         <th>Key Observations</th>     </tr>     </thead>     <tbody>     <tr>         <td>Most recent</td>         <td>Post-dialysis</td>         <td>Stable, completed 4-hour HD, no complaints</td>     </tr>     <tr>         <td>Previous</td>         <td>Pre-dialysis</td>         <td>Stable, no signs of infection or COVID</td>     </tr>     <tr>         <td>Earliest</td>         <td>Pre-dialysis</td>         <td>Stable, afebrile, no infection/edema, profiling linear started</td>     </tr>     </tbody> </table>\n",
      "Overall, the patient appears to be doing well, with stable conditions before and after dialysis treatments, and no significant health concerns noted in these clinical notes.\n",
      "Closed with status code 1000 and msg \"Connection Closed Normally\"\n"
     ]
    },
    {
     "data": {
      "text/plain": [
       "False"
      ]
     },
     "execution_count": 1,
     "metadata": {},
     "output_type": "execute_result"
    }
   ],
   "source": [
    "import json\n",
    "import websocket\n",
    "\n",
    "payload = {\n",
    "  \"responseData\": [\n",
    "    \"id,note,type,details,fhir_id,id_patient,created_at,modified_at,created_by,modified_by,id_tenant,id_branch,id_dialysis,manually_created,hd_reading_id,lab_order_id,,,,,,,,,,\",\n",
    "    \"11989,'pt stable, complete 4 hour hd, no complaint',HD,Post-dialysis,694417,1951,54:09.4,,233,,100,10000,9042,FALSE,,,,,,,,,,,,\",\n",
    "    \"11976,'pt stable, no sign of infection, no sign of covid',HD,Pre-dialysis,694027,1951,02:56.5,,233,,100,10000,9042,FALSE,,,,,,,,,,,,\",\n",
    "    \"11859,'pt stable and afebrile\\nno sign and symptom of infection seen\\nno sign and symptom of edema seen\\npt on profiling linear, start at 1.15L/hr',HD,Pre-dialysis,690742,1951,19:14.8,,172,,100,10000,8961,FALSE,,,,,,,,,,,,\"\n",
    "  ],\n",
    "  \"category\": \"clinical-note\",\n",
    "  \"userInput\": \"How is the patient doing?\",\n",
    "  \"previousSummary\": \"\",\n",
    "}\n",
    "\n",
    "payload['action'] = 'text-summarization'\n",
    "\n",
    "def on_message(ws, message):\n",
    "    print(message, end='', flush=True)\n",
    "\n",
    "def on_error(ws, error):\n",
    "    print(f\"Error: {error}\")\n",
    "\n",
    "def on_close(ws, close_status_code, close_msg):\n",
    "    print(f\"\\nClosed with status code {close_status_code} and msg \\\"{close_msg}\\\"\")\n",
    "\n",
    "def on_open(ws):\n",
    "    # Allows you to start a new thread to run this if desired (usually only relevant for asynchronously passing input to the websocket)\n",
    "    def run(*args):\n",
    "        ws.send(json.dumps(payload))\n",
    "    run()\n",
    "\n",
    "ws = websocket.WebSocketApp('wss://gj5gwg00fc.execute-api.us-east-1.amazonaws.com/dev/',\n",
    "                            on_message=on_message,\n",
    "                            on_error=on_error,\n",
    "                            on_close=on_close)\n",
    "ws.on_open = on_open\n",
    "ws.run_forever()"
   ]
  },
  {
   "cell_type": "code",
   "execution_count": 2,
   "metadata": {},
   "outputs": [
    {
     "ename": "RuntimeError",
     "evalue": "asyncio.run() cannot be called from a running event loop",
     "output_type": "error",
     "traceback": [
      "\u001b[1;31m---------------------------------------------------------------------------\u001b[0m",
      "\u001b[1;31mRuntimeError\u001b[0m                              Traceback (most recent call last)",
      "Cell \u001b[1;32mIn[2], line 12\u001b[0m\n\u001b[0;32m      9\u001b[0m             response \u001b[38;5;241m=\u001b[39m \u001b[38;5;28;01mawait\u001b[39;00m websocket\u001b[38;5;241m.\u001b[39mrecv()\n\u001b[0;32m     10\u001b[0m             \u001b[38;5;28mprint\u001b[39m(\u001b[38;5;124mf\u001b[39m\u001b[38;5;124m\"\u001b[39m\u001b[38;5;124mReceived: \u001b[39m\u001b[38;5;132;01m{\u001b[39;00mresponse\u001b[38;5;132;01m}\u001b[39;00m\u001b[38;5;124m\"\u001b[39m)\n\u001b[1;32m---> 12\u001b[0m \u001b[43masyncio\u001b[49m\u001b[38;5;241;43m.\u001b[39;49m\u001b[43mrun\u001b[49m\u001b[43m(\u001b[49m\u001b[43mecho\u001b[49m\u001b[43m(\u001b[49m\u001b[38;5;124;43m'\u001b[39;49m\u001b[38;5;124;43mwss://gj5gwg00fc.execute-api.us-east-1.amazonaws.com/dev/\u001b[39;49m\u001b[38;5;124;43m'\u001b[39;49m\u001b[43m)\u001b[49m\u001b[43m)\u001b[49m\n",
      "File \u001b[1;32mC:\\Python312\\Lib\\asyncio\\runners.py:190\u001b[0m, in \u001b[0;36mrun\u001b[1;34m(main, debug, loop_factory)\u001b[0m\n\u001b[0;32m    161\u001b[0m \u001b[38;5;250m\u001b[39m\u001b[38;5;124;03m\"\"\"Execute the coroutine and return the result.\u001b[39;00m\n\u001b[0;32m    162\u001b[0m \n\u001b[0;32m    163\u001b[0m \u001b[38;5;124;03mThis function runs the passed coroutine, taking care of\u001b[39;00m\n\u001b[1;32m   (...)\u001b[0m\n\u001b[0;32m    186\u001b[0m \u001b[38;5;124;03m    asyncio.run(main())\u001b[39;00m\n\u001b[0;32m    187\u001b[0m \u001b[38;5;124;03m\"\"\"\u001b[39;00m\n\u001b[0;32m    188\u001b[0m \u001b[38;5;28;01mif\u001b[39;00m events\u001b[38;5;241m.\u001b[39m_get_running_loop() \u001b[38;5;129;01mis\u001b[39;00m \u001b[38;5;129;01mnot\u001b[39;00m \u001b[38;5;28;01mNone\u001b[39;00m:\n\u001b[0;32m    189\u001b[0m     \u001b[38;5;66;03m# fail fast with short traceback\u001b[39;00m\n\u001b[1;32m--> 190\u001b[0m     \u001b[38;5;28;01mraise\u001b[39;00m \u001b[38;5;167;01mRuntimeError\u001b[39;00m(\n\u001b[0;32m    191\u001b[0m         \u001b[38;5;124m\"\u001b[39m\u001b[38;5;124masyncio.run() cannot be called from a running event loop\u001b[39m\u001b[38;5;124m\"\u001b[39m)\n\u001b[0;32m    193\u001b[0m \u001b[38;5;28;01mwith\u001b[39;00m Runner(debug\u001b[38;5;241m=\u001b[39mdebug, loop_factory\u001b[38;5;241m=\u001b[39mloop_factory) \u001b[38;5;28;01mas\u001b[39;00m runner:\n\u001b[0;32m    194\u001b[0m     \u001b[38;5;28;01mreturn\u001b[39;00m runner\u001b[38;5;241m.\u001b[39mrun(main)\n",
      "\u001b[1;31mRuntimeError\u001b[0m: asyncio.run() cannot be called from a running event loop"
     ]
    }
   ],
   "source": [
    "'''\n",
    "----- IGNORE -----\n",
    "import asyncio\n",
    "import websockets\n",
    "\n",
    "async def echo(uri):\n",
    "    async with websockets.connect(uri) as websocket:\n",
    "        while True:\n",
    "            message = input(\"Send: \")\n",
    "            await websocket.send(message)\n",
    "            response = await websocket.recv()\n",
    "            print(f\"Received: {response}\")\n",
    "\n",
    "asyncio.run(echo('wss://gj5gwg00fc.execute-api.us-east-1.amazonaws.com/dev/'))\n",
    "'''"
   ]
  }
 ],
 "metadata": {
  "kernelspec": {
   "display_name": ".venv",
   "language": "python",
   "name": "python3"
  },
  "language_info": {
   "codemirror_mode": {
    "name": "ipython",
    "version": 3
   },
   "file_extension": ".py",
   "mimetype": "text/x-python",
   "name": "python",
   "nbconvert_exporter": "python",
   "pygments_lexer": "ipython3",
   "version": "3.12.1"
  }
 },
 "nbformat": 4,
 "nbformat_minor": 2
}
