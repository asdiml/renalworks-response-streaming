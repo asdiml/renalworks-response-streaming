{
 "cells": [
  {
   "cell_type": "code",
   "execution_count": 20,
   "metadata": {},
   "outputs": [
    {
     "name": "stdout",
     "output_type": "stream",
     "text": [
      "{\"statusCode\": 200, \"headers\": {\"Content-Type\": \"application/json\", \"Access-Control-Allow-Headers\": \"*\", \"Access-Control-Allow-Origin\": \"*\", \"Access-Control-Allow-Methods\": \"*\"}, \"body\": \"\\\"\\\"\"}\n",
      "Based on the clinical notes provided, I can summarize the patient's condition as follows:\n",
      "1. <b>Overall Status</b>:     <ul>         <li>The patient is generally stable across multiple dialysis sessions</li>         <li>No major complaints or issues reported</li>     </ul>\n",
      "2. <b>Dialysis Treatment</b>:     <ul>         <li>Patient completed a 4-hour hemodialysis session without complications</li>         <li>Patient is on profiling linear dialysis, starting at 1.15L/hr</li>     </ul>\n",
      "3. <b>Infection Status</b>:     <ul>         <li>No signs of infection observed</li>         <li>Patient is afebrile (no fever)</li>         <li>Specifically, no signs of COVID-19 noted</li>     </ul>\n",
      "4. <b>Other Observations</b>:     <ul>         <li>No signs or symptoms of edema seen</li>     </ul>\n",
      "5. <b>Treatment Timeline</b>:     <table>         <thead>         <tr>             <th>Date</th>             <th>Type</th>             <th>Key Notes</th>         </tr>         </thead>         <tbody>         <tr>             <td>Most recent</td>             <td>Post-dialysis</td>             <td>Stable, completed 4-hour HD, no complaints</td>         </tr>         <tr>             <td>Previous</td>             <td>Pre-dialysis</td>             <td>Stable, no signs of infection or COVID</td>         </tr>         <tr>             <td>Earlier</td>             <td>Pre-dialysis</td>             <td>Stable, afebrile, no infection or edema, started profiling linear dialysis</td>         </tr>         </tbody>     </table>\n",
      "In summary, the patient appears to be doing well, with stable conditions during dialysis treatments and no significant health concerns noted in the provided clinical notes."
     ]
    }
   ],
   "source": [
    "import boto3, json\n",
    "\n",
    "session = boto3.Session(profile_name='renalworks-bedrock') # Replace the profile name (can be found for Windows users in /Users/{YOUR_USERNAME}/.aws/config) accordingly \n",
    "client = session.client('lambda')\n",
    "\n",
    "# Read payload from file\n",
    "with open('payload.json', 'r') as file:\n",
    "    payload = json.load(file)\n",
    "\n",
    "response = client.invoke_with_response_stream(\n",
    "    FunctionName='text-summarization-streaming',\n",
    "    Payload=json.dumps(payload)\n",
    ")\n",
    "\n",
    "event_stream = response['EventStream']\n",
    "for event in event_stream: \n",
    "    if 'PayloadChunk' in event:\n",
    "        print(event['PayloadChunk']['Payload'].decode(), end='', flush=True)"
   ]
  }
 ],
 "metadata": {
  "kernelspec": {
   "display_name": ".venv",
   "language": "python",
   "name": "python3"
  },
  "language_info": {
   "codemirror_mode": {
    "name": "ipython",
    "version": 3
   },
   "file_extension": ".py",
   "mimetype": "text/x-python",
   "name": "python",
   "nbconvert_exporter": "python",
   "pygments_lexer": "ipython3",
   "version": "3.12.1"
  }
 },
 "nbformat": 4,
 "nbformat_minor": 2
}
