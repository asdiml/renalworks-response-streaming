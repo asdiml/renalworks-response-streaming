{
 "cells": [
  {
   "cell_type": "code",
   "execution_count": 1,
   "metadata": {},
   "outputs": [],
   "source": [
    "'''\n",
    "Defines the jwk_to_pem function which converts jwk format pubkeys to pem format\n",
    "'''\n",
    "from cryptography.hazmat.primitives.asymmetric import rsa\n",
    "from cryptography.hazmat.primitives import serialization\n",
    "import base64\n",
    "\n",
    "def b64_to_int(b64_string):\n",
    "    \"\"\"Convert base64 to integer.\"\"\"\n",
    "    return int.from_bytes(base64.urlsafe_b64decode(b64_string + '=='), 'big')\n",
    "\n",
    "def jwk_to_pem(jwk):\n",
    "    \"\"\"Convert a JWK to PEM format.\"\"\"\n",
    "    if jwk[\"kty\"] != \"RSA\":\n",
    "        raise ValueError(\"Unsupported key type\")\n",
    "    \n",
    "    # Convert modulus and exponent from base64 to integers\n",
    "    modulus = b64_to_int(jwk[\"n\"])\n",
    "    exponent = b64_to_int(jwk[\"e\"])\n",
    "\n",
    "    # Build the RSA public key\n",
    "    public_key = rsa.RSAPublicNumbers(exponent, modulus).public_key()\n",
    "\n",
    "    # Convert the RSA public key to PEM format\n",
    "    pem = public_key.public_bytes(\n",
    "        encoding=serialization.Encoding.PEM,\n",
    "        format=serialization.PublicFormat.SubjectPublicKeyInfo\n",
    "    )\n",
    "\n",
    "    return pem.decode('utf-8')"
   ]
  },
  {
   "cell_type": "code",
   "execution_count": 2,
   "metadata": {},
   "outputs": [
    {
     "name": "stdout",
     "output_type": "stream",
     "text": [
      "Retrieving public keys from https://cognito-idp.us-east-1.amazonaws.com/us-east-1_kKJIKYQVF/.well-known/jwks.json\n",
      "{'oyeJIIULWKla+DehPcWXVDS1KeRrZOoatXvrB8X4cxE=': {'pubkey': '-----BEGIN PUBLIC KEY-----\\nMIIBIjANBgkqhkiG9w0BAQEFAAOCAQ8AMIIBCgKCAQEAyQDS7IObHvzXhAEE+q9P\\njXsLhN4/3FwRGf440oYIlni5/b5VIaC0wzNClC3VMdsD9wu7r+f3U7SzKXrSR38L\\nEaWRT0ODWFCYaEDpdxnim5IPcuKZCvWCd2VPJVzBtn8ygLm+dVGRsrs/Kbkthq1x\\naMJFNfuruO8Vfgnu31b/UK5JZrppJau4BSZael1SJG4x9/oo6pHo80MkN0XWez+M\\n94qo9b8JfJjCiimDbZfsB7kssz8Zyc0rBIN/sY9ZAikcS/K+tgqtcBBs6IIoAtco\\nImo+pnOapkCEYpi8yJEnRYgm07qqKGd4Vi7jR2FwdALorRGUQ8VgT+NJFb9FpNbs\\nHQIDAQAB\\n-----END PUBLIC KEY-----\\n', 'alg': 'RS256'}, '4iAZ/0S3Dg8hioi08+HgChnOWJreTR9hS2e713hN4IU=': {'pubkey': '-----BEGIN PUBLIC KEY-----\\nMIIBIjANBgkqhkiG9w0BAQEFAAOCAQ8AMIIBCgKCAQEA4K8Pj4NYtYQkWUj5yBa2\\noraQfNz65UohPjgQxJBopkTEEfJMBKdhGiyAOyMvSKNfAMrTL+L0L+eeNEPOYwla\\nQxjK/Bcc7mWDHf0Ys0hIek5phUWQZx7cNoOgJDxWl6VqxlgtD/q7azDYF/Kq1xoS\\nfkxLKXxJMy9FsGKHHbFrr2+m5JIei9egjs7T+5J50A5pTBInzXhtP8aSLxkiAVPX\\nrBWXR9eNJLivVcHGaDGugFtb18XmGb3MfhZBysyn+MmzSg+lv+2XmmF2cAf2rdQg\\ngwPz5wFEytY2SGVZ8gEKeIErko+jnOXJxWppbU9lnTDtNOQCLrZR26ikrhly6Z0L\\nKwIDAQAB\\n-----END PUBLIC KEY-----\\n', 'alg': 'RS256'}}\n"
     ]
    }
   ],
   "source": [
    "'''\n",
    "Defines verifyToken and the helper functions invoked to perform the function (e.g. to pull the pubkeys from the Cognito endpoint\n",
    "'''\n",
    "\n",
    "import requests\n",
    "\n",
    "region = 'us-east-1'\n",
    "userPoolId = 'us-east-1_kKJIKYQVF'\n",
    "\n",
    "jwksUrl = f\"https://cognito-idp.{region}.amazonaws.com/{userPoolId}/.well-known/jwks.json\"\n",
    "\n",
    "def getPubKeysFromUrl(jwksUrl):\n",
    "    \n",
    "    print(f\"Retrieving public keys from {jwksUrl}\")\n",
    "\n",
    "    response = requests.get(jwksUrl)\n",
    "\n",
    "    if response.status_code != 200:\n",
    "      raise Exception(\"Unable to retrieve public keys from {jwksUrl}\")\n",
    "    \n",
    "    pubkeys_jwk_json = response.json()\n",
    "    pubkeys_pem = {}\n",
    "\n",
    "    for pubkey_jwk in pubkeys_jwk_json['keys']:\n",
    "      kid = pubkey_jwk['kid']\n",
    "      pubkeys_pem[kid] = {\n",
    "         \"pubkey\": jwk_to_pem(pubkey_jwk),\n",
    "         \"alg\": pubkey_jwk['alg']\n",
    "      }\n",
    "    \n",
    "    return pubkeys_pem\n",
    "\n",
    "pubkeys = getPubKeysFromUrl(jwksUrl)\n",
    "print(pubkeys)"
   ]
  },
  {
   "cell_type": "code",
   "execution_count": 22,
   "metadata": {},
   "outputs": [
    {
     "name": "stdout",
     "output_type": "stream",
     "text": [
      "Retrieving public keys from https://cognito-idp.us-east-1.amazonaws.com/us-east-1_kKJIKYQVF/.well-known/jwks.json\n",
      "{'sub': '8458e4b8-c071-7066-dc6c-e73ba3ba23c4', 'iss': 'https://cognito-idp.us-east-1.amazonaws.com/us-east-1_kKJIKYQVF', 'client_id': '19mnap32f93ldfsiip8d946v3p', 'origin_jti': '62706e6a-da1a-41cf-b330-2699eb85bda9', 'event_id': '43ece6bd-9bdb-47a1-941a-be7bca625494', 'token_use': 'access', 'scope': 'aws.cognito.signin.user.admin', 'auth_time': 1724925547, 'exp': 1724929147, 'iat': 1724925547, 'jti': 'a4363f2d-58b8-4949-b318-3d7b5030d0b4', 'username': '8458e4b8-c071-7066-dc6c-e73ba3ba23c4'}\n"
     ]
    }
   ],
   "source": [
    "import jwt\n",
    "from jwt.exceptions import ExpiredSignatureError, InvalidTokenError\n",
    "\n",
    "with open('auth-token', 'rb') as f:\n",
    "    token = f.read().decode()\n",
    "\n",
    "def verifyToken(token):\n",
    "\n",
    "    kid = jwt.get_unverified_header(token).get('kid')\n",
    "    if not kid:\n",
    "        print('kid field required in the JWT header')\n",
    "\n",
    "    pubkeys = getPubKeysFromUrl(jwksUrl)\n",
    "    if not pubkeys.get(kid):\n",
    "        print('Unauthenticated. User not in the authorized user pool')\n",
    "\n",
    "    try:\n",
    "        claims = jwt.decode(token, pubkeys[kid]['pubkey'], algorithms=[pubkeys[kid]['alg']])\n",
    "        return claims\n",
    "\n",
    "    except Exception as e: \n",
    "        if isinstance(e, ExpiredSignatureError):\n",
    "            print(\"Signature expired. Please obtain a new auth token. \")\n",
    "        elif isinstance(e, InvalidTokenError):\n",
    "            print(\"Invalid signature\")\n",
    "        else:\n",
    "            print(f\"Exception raised: {e}\")\n",
    "        return None\n",
    "  \n",
    "print(verifyToken(token))"
   ]
  }
 ],
 "metadata": {
  "kernelspec": {
   "display_name": ".venv",
   "language": "python",
   "name": "python3"
  },
  "language_info": {
   "codemirror_mode": {
    "name": "ipython",
    "version": 3
   },
   "file_extension": ".py",
   "mimetype": "text/x-python",
   "name": "python",
   "nbconvert_exporter": "python",
   "pygments_lexer": "ipython3",
   "version": "3.12.1"
  }
 },
 "nbformat": 4,
 "nbformat_minor": 2
}
