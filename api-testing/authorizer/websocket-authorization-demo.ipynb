{
 "cells": [
  {
   "cell_type": "code",
   "execution_count": 4,
   "metadata": {},
   "outputs": [
    {
     "name": "stdout",
     "output_type": "stream",
     "text": [
      "Error: Handshake status 401 Unauthorized -+-+- {'date': 'Thu, 29 Aug 2024 10:03:56 GMT', 'content-type': 'application/json; charset=UTF-8', 'content-length': '94', 'connection': 'keep-alive', 'x-amz-apigw-id': 'dRAd_FIfoAMFrow='} -+-+- b'{\"message\": \"Unauthorized\", \"connectionId\":\"dRAd_fqpoAMCKlw=\", \"requestId\":\"dRAd_FIfoAMFrow=\"}'\n",
      "\n",
      "Closed with status code None and msg \"None\"\n"
     ]
    },
    {
     "data": {
      "text/plain": [
       "True"
      ]
     },
     "execution_count": 4,
     "metadata": {},
     "output_type": "execute_result"
    }
   ],
   "source": [
    "'''\n",
    "Unauthorized due to lack of the 'Authorization' Header\n",
    "'''\n",
    "\n",
    "import json\n",
    "import websocket\n",
    "\n",
    "payload = {\n",
    "  \"responseData\": [\n",
    "    \"id,note,type,details,fhir_id,id_patient,created_at,modified_at,created_by,modified_by,id_tenant,id_branch,id_dialysis,manually_created,hd_reading_id,lab_order_id,,,,,,,,,,\",\n",
    "    \"11989,'pt stable, complete 4 hour hd, no complaint',HD,Post-dialysis,694417,1951,54:09.4,,233,,100,10000,9042,FALSE,,,,,,,,,,,,\",\n",
    "    \"11976,'pt stable, no sign of infection, no sign of covid',HD,Pre-dialysis,694027,1951,02:56.5,,233,,100,10000,9042,FALSE,,,,,,,,,,,,\",\n",
    "    \"11859,'pt stable and afebrile\\nno sign and symptom of infection seen\\nno sign and symptom of edema seen\\npt on profiling linear, start at 1.15L/hr',HD,Pre-dialysis,690742,1951,19:14.8,,172,,100,10000,8961,FALSE,,,,,,,,,,,,\"\n",
    "  ],\n",
    "  \"category\": \"clinical-note\",\n",
    "  \"userInput\": \"How is the patient doing?\",\n",
    "  \"previousSummary\": \"\",\n",
    "}\n",
    "\n",
    "payload['action'] = 'text-summarization'\n",
    "\n",
    "def on_message(ws, message):\n",
    "    print(message, end='', flush=True)\n",
    "\n",
    "def on_error(ws, error):\n",
    "    print(f\"Error: {error}\")\n",
    "\n",
    "def on_close(ws, close_status_code, close_msg):\n",
    "    print(f\"\\nClosed with status code {close_status_code} and msg \\\"{close_msg}\\\"\")\n",
    "\n",
    "def on_open(ws):\n",
    "    # Allows you to start a new thread to run this if desired (usually only relevant for asynchronously passing input to the websocket)\n",
    "    def run(*args):\n",
    "        ws.send(json.dumps(payload))\n",
    "    run()\n",
    "\n",
    "ws = websocket.WebSocketApp('wss://gj5gwg00fc.execute-api.us-east-1.amazonaws.com/dev/',\n",
    "                            on_message=on_message,\n",
    "                            on_error=on_error,\n",
    "                            on_close=on_close)\n",
    "ws.on_open = on_open\n",
    "ws.run_forever()"
   ]
  },
  {
   "cell_type": "code",
   "execution_count": 16,
   "metadata": {},
   "outputs": [
    {
     "name": "stdout",
     "output_type": "stream",
     "text": [
      "Based on the clinical notes provided, I can summarize the patient's condition as follows:\n",
      "1. <b>Overall Status</b>:     <ul>         <li>The patient is generally stable across multiple dialysis sessions</li>         <li>No major complaints or issues reported</li>     </ul>\n",
      "2. <b>Dialysis Treatment</b>:     <ul>         <li>Patient completed a 4-hour hemodialysis session without complications</li>         <li>Patient is on profiling linear dialysis, starting at 1.15L/hr</li>     </ul>\n",
      "3. <b>Infection Status</b>:     <ul>         <li>No signs of infection observed</li>         <li>Patient is afebrile (no fever)</li>         <li>Specifically, no signs of COVID-19 noted</li>     </ul>\n",
      "4. <b>Other Observations</b>:     <ul>         <li>No signs or symptoms of edema seen</li>     </ul>\n",
      "<table>     <thead>     <tr>         <th>Date</th>         <th>Type</th>         <th>Key Observations</th>     </tr>     </thead>     <tbody>     <tr>         <td>Most recent</td>         <td>Post-dialysis</td>         <td>Patient stable, completed 4-hour HD, no complaints</td>     </tr>     <tr>         <td>Previous</td>         <td>Pre-dialysis</td>         <td>Patient stable, no signs of infection or COVID</td>     </tr>     <tr>         <td>Earlier</td>         <td>Pre-dialysis</td>         <td>Patient stable, afebrile, no infection or edema, started on profiling linear dialysis</td>     </tr>     </tbody> </table>\n",
      "Overall, the patient appears to be doing well, with stable conditions during dialysis treatments and no significant health concerns noted in the provided clinical notes.\n",
      "Closed with status code 1000 and msg \"Connection Closed Normally\"\n"
     ]
    },
    {
     "data": {
      "text/plain": [
       "False"
      ]
     },
     "execution_count": 16,
     "metadata": {},
     "output_type": "execute_result"
    }
   ],
   "source": [
    "'''\n",
    "Passes in the `Authorization: Bearer <token>` header for authentication\n",
    "\n",
    "TTFB (Time to first byte) with authentication: ~10 seconds\n",
    "'''\n",
    "\n",
    "import json\n",
    "import websocket\n",
    "\n",
    "payload = {\n",
    "  \"responseData\": [\n",
    "    \"id,note,type,details,fhir_id,id_patient,created_at,modified_at,created_by,modified_by,id_tenant,id_branch,id_dialysis,manually_created,hd_reading_id,lab_order_id,,,,,,,,,,\",\n",
    "    \"11989,'pt stable, complete 4 hour hd, no complaint',HD,Post-dialysis,694417,1951,54:09.4,,233,,100,10000,9042,FALSE,,,,,,,,,,,,\",\n",
    "    \"11976,'pt stable, no sign of infection, no sign of covid',HD,Pre-dialysis,694027,1951,02:56.5,,233,,100,10000,9042,FALSE,,,,,,,,,,,,\",\n",
    "    \"11859,'pt stable and afebrile\\nno sign and symptom of infection seen\\nno sign and symptom of edema seen\\npt on profiling linear, start at 1.15L/hr',HD,Pre-dialysis,690742,1951,19:14.8,,172,,100,10000,8961,FALSE,,,,,,,,,,,,\"\n",
    "  ],\n",
    "  \"category\": \"clinical-note\",\n",
    "  \"userInput\": \"How is the patient doing?\",\n",
    "  \"previousSummary\": \"\",\n",
    "}\n",
    "\n",
    "payload['action'] = 'text-summarization'\n",
    "\n",
    "with open('auth-token.txt', 'rb') as f:\n",
    "    authorization_token = f.read().decode()\n",
    "\n",
    "def on_message(ws, message):\n",
    "    print(message, end='', flush=True)\n",
    "\n",
    "def on_error(ws, error):\n",
    "    print(f\"Error: {error}\")\n",
    "\n",
    "def on_close(ws, close_status_code, close_msg):\n",
    "    print(f\"\\nClosed with status code {close_status_code} and msg \\\"{close_msg}\\\"\")\n",
    "\n",
    "def on_open(ws):\n",
    "    # Allows you to start a new thread to run this if desired (usually only relevant for asynchronously passing input to the websocket)\n",
    "    def run(*args):\n",
    "        ws.send(json.dumps(payload))\n",
    "    run()\n",
    "\n",
    "headers = {\n",
    "    'Authorization': f'Bearer {authorization_token}'\n",
    "}\n",
    "\n",
    "ws = websocket.WebSocketApp('wss://gj5gwg00fc.execute-api.us-east-1.amazonaws.com/dev/',\n",
    "                            on_message=on_message,\n",
    "                            on_error=on_error,\n",
    "                            on_close=on_close,\n",
    "                            header=headers)\n",
    "ws.on_open = on_open\n",
    "ws.run_forever()"
   ]
  }
 ],
 "metadata": {
  "kernelspec": {
   "display_name": ".venv",
   "language": "python",
   "name": "python3"
  },
  "language_info": {
   "codemirror_mode": {
    "name": "ipython",
    "version": 3
   },
   "file_extension": ".py",
   "mimetype": "text/x-python",
   "name": "python",
   "nbconvert_exporter": "python",
   "pygments_lexer": "ipython3",
   "version": "3.12.1"
  }
 },
 "nbformat": 4,
 "nbformat_minor": 2
}
