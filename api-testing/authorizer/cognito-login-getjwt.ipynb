{
 "cells": [
  {
   "cell_type": "code",
   "execution_count": 14,
   "metadata": {},
   "outputs": [
    {
     "name": "stdout",
     "output_type": "stream",
     "text": [
      "ID Token: eyJraWQiOiJveWVKSUlVTFdLbGErRGVoUGNXWFZEUzFLZVJyWk9vYXRYdnJCOFg0Y3hFPSIsImFsZyI6IlJTMjU2In0.eyJzdWIiOiI4NDU4ZTRiOC1jMDcxLTcwNjYtZGM2Yy1lNzNiYTNiYTIzYzQiLCJlbWFpbF92ZXJpZmllZCI6dHJ1ZSwiaXNzIjoiaHR0cHM6XC9cL2NvZ25pdG8taWRwLnVzLWVhc3QtMS5hbWF6b25hd3MuY29tXC91cy1lYXN0LTFfa0tKSUtZUVZGIiwiY29nbml0bzp1c2VybmFtZSI6Ijg0NThlNGI4LWMwNzEtNzA2Ni1kYzZjLWU3M2JhM2JhMjNjNCIsIm9yaWdpbl9qdGkiOiI1ZjFjYTQ4NS02Nzc3LTQwNzEtYTkxZC01NTQwYjBmMDU3YjgiLCJhdWQiOiIxOW1uYXAzMmY5M2xkZnNpaXA4ZDk0NnYzcCIsImV2ZW50X2lkIjoiYzY4NDhhMjgtYzBkMS00Yjc5LTg4YmMtYTgzNDE3ZDA0NzQzIiwidG9rZW5fdXNlIjoiaWQiLCJhdXRoX3RpbWUiOjE3MjQ5NDIzNTUsImV4cCI6MTcyNDk0NTk1NSwiaWF0IjoxNzI0OTQyMzU1LCJqdGkiOiJmZmIyMWE5NC04M2VhLTRkMDEtYTNkMS1iZTg2Y2ZiNWQzNmYiLCJlbWFpbCI6InRhbnRlb25nc2VuZzJAZ21haWwuY29tIn0.qsh15yiAAgRGsVysaZNRWiIhlvVPI4XjUeyusQlbfISUE4_qxHnNRuRk6AdblwUPtJJnr9dWNlo0jOC63ywlqTdjIO6Ca-nWJ5HTDP-QrPwRJYkVAQ50uDzx89I-4s8WSly7yfyY-LA9t13QwwhjQViGrD0CeaCd_9oyJggJWiHCPWJ-aJ83_7chczcsa6g3M0WDyN6zrfDNMbvOCwd1lSTcCRtX0PJZgN9TD8ZiIJOjd0f5xyXWKc7pPpbgTKtzGn4JsemRfH3pZk7oN4MWXfJT2qMXs6_ekkeEI8E-JLw437T7OFA8buV9keOGv3yB3HBM1Z7PTPM2zkn1iOyHyw\n",
      "Access Token: eyJraWQiOiI0aUFaXC8wUzNEZzhoaW9pMDgrSGdDaG5PV0pyZVRSOWhTMmU3MTNoTjRJVT0iLCJhbGciOiJSUzI1NiJ9.eyJzdWIiOiI4NDU4ZTRiOC1jMDcxLTcwNjYtZGM2Yy1lNzNiYTNiYTIzYzQiLCJpc3MiOiJodHRwczpcL1wvY29nbml0by1pZHAudXMtZWFzdC0xLmFtYXpvbmF3cy5jb21cL3VzLWVhc3QtMV9rS0pJS1lRVkYiLCJjbGllbnRfaWQiOiIxOW1uYXAzMmY5M2xkZnNpaXA4ZDk0NnYzcCIsIm9yaWdpbl9qdGkiOiI1ZjFjYTQ4NS02Nzc3LTQwNzEtYTkxZC01NTQwYjBmMDU3YjgiLCJldmVudF9pZCI6ImM2ODQ4YTI4LWMwZDEtNGI3OS04OGJjLWE4MzQxN2QwNDc0MyIsInRva2VuX3VzZSI6ImFjY2VzcyIsInNjb3BlIjoiYXdzLmNvZ25pdG8uc2lnbmluLnVzZXIuYWRtaW4iLCJhdXRoX3RpbWUiOjE3MjQ5NDIzNTUsImV4cCI6MTcyNDk0NTk1NSwiaWF0IjoxNzI0OTQyMzU1LCJqdGkiOiJiY2QwZTVmYS1kYmZlLTQzZWMtODg5NC02YmU0MjhmMDg1MTIiLCJ1c2VybmFtZSI6Ijg0NThlNGI4LWMwNzEtNzA2Ni1kYzZjLWU3M2JhM2JhMjNjNCJ9.2WjiG7b4ckF5fBmgiF23qgPV3gYDwAoJEOwF0eSiBYCShw9mdgn4N0WP6V0V4g_zRV-qJOrSGAOV18HQDV9PzFLlNphmx277F0Xz4DjlZKm47WU-xt1T2Lf3vQ5rVTdbmfdlhusx4kKgDRWMuVRPerHPWt_DlvsuRoSjdptaztF62_PQT2-uykskhb5p06tQFkTQyHnSdJASp8jyhpmrnsVJdwlgmB3RWIyKDcsKk8uGfN_VMfVogCLA7Eqo36FxlxfsH8ZBj4wGiehQnzFzhqfXUWYSE3L5DJbUj2xTdvOkl55Tsm9NfYCNYN-LhPQMJK_KUqSvk8nd55E6joNWIQ\n",
      "Refresh Token: eyJjdHkiOiJKV1QiLCJlbmMiOiJBMjU2R0NNIiwiYWxnIjoiUlNBLU9BRVAifQ.g1YBVyyzU4aona0bifWBA3FchgFINuWIotdWoXEz08JjiplIpiA5vzTj8COkwHbU0C2BKiQ1kybABq9WUZSCE5yYeCpe_PDhRH-uCSxEBXuAqNaNAwIzPDJWF2yGktimMoptxtW6QH1kfhRMcllZsDIZSdrlplb8XGg5TfaKd7R7Jwx5pfvPa4RbKCYb6A81VWf2DHVh6VQtJ4zP50_i4SclzsJo5xJKkFNzDWdfjbyiE_NOmoh9s0EU9IywbDpqKZg4trk0ldGakPNLPiv3L52bPu5Di7xo2PtU_rNQAGeMnwbJJw6CHwLBkS2hal2mGJIjzjco8FT0ziyPxhwmZA.gd2SfURC4uZwedy1.5GyluOhqmaRbYRZuT4xalTtE98mQm9PkU7NzMpnoxWI07_viY4aNcSPMT71lXP0Hzg8blFK5VF_uaqh60_r47TYMlfUZ07Jtk9vJ44fwp7Eor0ou3f23yxrMjsXJyAgDnIsATLv3l-YGwLz9Pj9e1BrKG_dV7NHP1jsqzky2rleBf8_Eov059lPU36oXSBmtvneNySu6kHElXNNZ3JBxp8f7rkPBD_i-5mkaI9qULWAw0CII8kgBYgyr3He9rKaXzwxISDyEUbp-dTXlF9y-dZt6PhAdTOif1-eWsFmBZHW689SIPU3GoEkr9RHrETNZODis-K90x2smXWHj1lMVrjNPXQZhzaBheKRroSYT2Y8JVpVJHjoYcrikyWK_29XhsnymyWNzWmGzq-g5w16ZaB_cW_dfFC4nZ8LIkX5SGcaO3cQsXCj5BD5IQXd2_DjwDbFPtQjm-bb_M3rHRfLG25noLHeUUr673VL7MIZS7bzLqGIxdeRp3fo_78kQ9J9td4fYI88otJX7NNbv3l5UM53FVUnSoUQ_oD6hDiu-LRx64ylmGE1hf-YwojRXk9Hl0bBJksk6cSlrmbUjx7qnE6n7NXLMzvlIAv7cZeLgrJRlKm4eMl0sqeyNIRwxrnwlVjEAtyTRFegTQAeVfLrcH5dOf-9ENba9paM139-KlVyukLt6UX6T-fbVdcjOVI5S3yFS9dUdAISplOqq9tnQ3dc1vNLBvqq9gwS7AOotWLduOSCacCtS5PiWuAvU71f0zC8AU4Yh8iP3D2uUgYFEPyKCM58EG-ohN4y3xqKfqT2vMMgUUtxBqoveXI0yggWcdNz1Sc65U9Vll5ukt9sNXzmymJtXxaAYuhTYyjsJ-niSvSanZClclP7tiD8QME6qYZBuz13FRle_AbtBg5ikTk_-1lofFwgBFej_1-NV7jXsruJTa5qooBu8eUw2_qsC0OIwnJZZLBepyStW-6xv-ny-fM0pvOdqJynNsctsu2c93lSmKjLV5yEyCYnqTUYpQxXXh0-G7AWBIPQfZNs1GidhKhbPGGcFwyOA9OyXkIFiAneeXIRXtOW3CvHqdRe9-Zvi-AnKJubgd67dIZWVUcOIKJsSvi-hL305pjDFEFw1gv3om9UUcmCLOBvlgEdsDhzDLg6aPBZ9e8BikrzDL8u4SX5t_9Dt5T88u-NIruChhGNASQqhbUYAGzvsPR6k6jiPZPDM5lDpI0sXFe0Hv4FP1u3NLO7rMTjcvVYr6KJEZAC6nwln35cMtVuTozEZf09N4pmsNzJS1Rzw5uZ9dKy3aScyW0Z7aAdd0HNByFlOQTS_uyKIrE5QVRQ.4QcGeu7E7tyU_5D9u6q23g\n"
     ]
    }
   ],
   "source": [
    "'''\n",
    "Obtains the auth token by logging into Cognito as a user in the user pool\n",
    "'''\n",
    "\n",
    "import boto3\n",
    "\n",
    "# Initialize a session using Amazon Cognito\n",
    "client = boto3.client('cognito-idp', region_name='us-east-1') # No IAM authentication is required - this is a public authentication app client service\n",
    "\n",
    "# Define the necessary parameters\n",
    "username = '8458e4b8-c071-7066-dc6c-e73ba3ba23c4'\n",
    "password = 'r3N@lw0RKs'\n",
    "client_id = '19mnap32f93ldfsiip8d946v3p'\n",
    "\n",
    "# Authenticate the user\n",
    "try:\n",
    "    response = client.initiate_auth(\n",
    "        AuthFlow='USER_PASSWORD_AUTH',\n",
    "        AuthParameters={\n",
    "            'USERNAME': username,\n",
    "            'PASSWORD': password,\n",
    "        },\n",
    "        ClientId=client_id\n",
    "    )\n",
    "    \n",
    "    # Get the authentication result\n",
    "    id_token = response['AuthenticationResult']['IdToken']\n",
    "    access_token = response['AuthenticationResult']['AccessToken']\n",
    "    refresh_token = response['AuthenticationResult']['RefreshToken']\n",
    "\n",
    "    with open('auth-token.txt', 'wb') as f:\n",
    "        f.write(access_token.encode())\n",
    "    \n",
    "    print(\"ID Token:\", id_token)\n",
    "    print(\"Access Token:\", access_token)\n",
    "    print(\"Refresh Token:\", refresh_token)\n",
    "\n",
    "except client.exceptions.NotAuthorizedException:\n",
    "    print(\"The username or password is incorrect\")\n",
    "except client.exceptions.UserNotFoundException:\n",
    "    print(\"The user does not exist\")\n",
    "except Exception as e:\n",
    "    print(f\"An error occurred: {str(e)}\")"
   ]
  }
 ],
 "metadata": {
  "kernelspec": {
   "display_name": ".venv",
   "language": "python",
   "name": "python3"
  },
  "language_info": {
   "codemirror_mode": {
    "name": "ipython",
    "version": 3
   },
   "file_extension": ".py",
   "mimetype": "text/x-python",
   "name": "python",
   "nbconvert_exporter": "python",
   "pygments_lexer": "ipython3",
   "version": "3.12.1"
  }
 },
 "nbformat": 4,
 "nbformat_minor": 2
}
