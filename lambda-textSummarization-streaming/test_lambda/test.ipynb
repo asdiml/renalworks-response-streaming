{
 "cells": [
  {
   "cell_type": "code",
   "execution_count": 6,
   "metadata": {},
   "outputs": [
    {
     "name": "stdout",
     "output_type": "stream",
     "text": [
      "{'type': 'message_start', 'message': {'id': 'msg_bdrk_01Bt6nYQbEhUp3KZdH4WVJZg', 'type': 'message', 'role': 'assistant', 'model': 'claude-3-5-sonnet-20240620', 'content': [], 'stop_reason': None, 'stop_sequence': None, 'usage': {'input_tokens': 13, 'output_tokens': 4}}}{'type': 'content_block_start', 'index': 0, 'content_block': {'type': 'text', 'text': ''}}{'type': 'content_block_delta', 'index': 0, 'delta': {'type': 'text_delta', 'text': 'Heap exploitation is'}}{'type': 'content_block_delta', 'index': 0, 'delta': {'type': 'text_delta', 'text': ' a complex'}}{'type': 'content_block_delta', 'index': 0, 'delta': {'type': 'text_delta', 'text': ' topic in'}}{'type': 'content_block_delta', 'index': 0, 'delta': {'type': 'text_delta', 'text': ' computer security.'}}{'type': 'content_block_delta', 'index': 0, 'delta': {'type': 'text_delta', 'text': ' Generally'}}{'type': 'content_block_delta', 'index': 0, 'delta': {'type': 'text_delta', 'text': ', it'}}{'type': 'content_block_delta', 'index': 0, 'delta': {'type': 'text_delta', 'text': ' involves taking'}}{'type': 'content_block_delta', 'index': 0, 'delta': {'type': 'text_delta', 'text': ' advantage of memory'}}{'type': 'content_block_delta', 'index': 0, 'delta': {'type': 'text_delta', 'text': ' management'}}{'type': 'content_block_delta', 'index': 0, 'delta': {'type': 'text_delta', 'text': ' vulner'}}{'type': 'content_block_delta', 'index': 0, 'delta': {'type': 'text_delta', 'text': 'abilities to execute'}}{'type': 'content_block_delta', 'index': 0, 'delta': {'type': 'text_delta', 'text': ' mal'}}{'type': 'content_block_delta', 'index': 0, 'delta': {'type': 'text_delta', 'text': 'icious code or'}}{'type': 'content_block_delta', 'index': 0, 'delta': {'type': 'text_delta', 'text': ' gain'}}{'type': 'content_block_delta', 'index': 0, 'delta': {'type': 'text_delta', 'text': ' unauthorized access. Common'}}{'type': 'content_block_delta', 'index': 0, 'delta': {'type': 'text_delta', 'text': ' techniques'}}{'type': 'content_block_delta', 'index': 0, 'delta': {'type': 'text_delta', 'text': ' include heap'}}{'type': 'content_block_delta', 'index': 0, 'delta': {'type': 'text_delta', 'text': ' overflow'}}{'type': 'content_block_delta', 'index': 0, 'delta': {'type': 'text_delta', 'text': ', use'}}{'type': 'content_block_delta', 'index': 0, 'delta': {'type': 'text_delta', 'text': '-after-free'}}{'type': 'content_block_delta', 'index': 0, 'delta': {'type': 'text_delta', 'text': ', and double free'}}{'type': 'content_block_delta', 'index': 0, 'delta': {'type': 'text_delta', 'text': ' attacks'}}{'type': 'content_block_delta', 'index': 0, 'delta': {'type': 'text_delta', 'text': '.'}}{'type': 'content_block_delta', 'index': 0, 'delta': {'type': 'text_delta', 'text': ' These'}}{'type': 'content_block_delta', 'index': 0, 'delta': {'type': 'text_delta', 'text': ' target'}}{'type': 'content_block_delta', 'index': 0, 'delta': {'type': 'text_delta', 'text': ' how'}}{'type': 'content_block_delta', 'index': 0, 'delta': {'type': 'text_delta', 'text': ' programs'}}{'type': 'content_block_delta', 'index': 0, 'delta': {'type': 'text_delta', 'text': ' alloc'}}{'type': 'content_block_delta', 'index': 0, 'delta': {'type': 'text_delta', 'text': 'ate,'}}{'type': 'content_block_delta', 'index': 0, 'delta': {'type': 'text_delta', 'text': ' use'}}{'type': 'content_block_delta', 'index': 0, 'delta': {'type': 'text_delta', 'text': ', and dealloc'}}{'type': 'content_block_delta', 'index': 0, 'delta': {'type': 'text_delta', 'text': 'ate memory on'}}{'type': 'content_block_delta', 'index': 0, 'delta': {'type': 'text_delta', 'text': ' the heap.'}}{'type': 'content_block_delta', 'index': 0, 'delta': {'type': 'text_delta', 'text': ' Successful'}}{'type': 'content_block_delta', 'index': 0, 'delta': {'type': 'text_delta', 'text': ' exploitation'}}{'type': 'content_block_delta', 'index': 0, 'delta': {'type': 'text_delta', 'text': ' often'}}{'type': 'content_block_delta', 'index': 0, 'delta': {'type': 'text_delta', 'text': ' requires deep'}}{'type': 'content_block_delta', 'index': 0, 'delta': {'type': 'text_delta', 'text': ' knowledge'}}{'type': 'content_block_delta', 'index': 0, 'delta': {'type': 'text_delta', 'text': ' of memory layouts'}}{'type': 'content_block_delta', 'index': 0, 'delta': {'type': 'text_delta', 'text': ' an'}}{'type': 'content_block_delta', 'index': 0, 'delta': {'type': 'text_delta', 'text': 'd allocation'}}{'type': 'content_block_delta', 'index': 0, 'delta': {'type': 'text_delta', 'text': ' algorithms'}}{'type': 'content_block_delta', 'index': 0, 'delta': {'type': 'text_delta', 'text': \". I'd encourage\"}}{'type': 'content_block_delta', 'index': 0, 'delta': {'type': 'text_delta', 'text': ' learning'}}{'type': 'content_block_delta', 'index': 0, 'delta': {'type': 'text_delta', 'text': ' more from rep'}}{'type': 'content_block_delta', 'index': 0, 'delta': {'type': 'text_delta', 'text': 'utable cybersecurity'}}{'type': 'content_block_delta', 'index': 0, 'delta': {'type': 'text_delta', 'text': ' resources if'}}{'type': 'content_block_delta', 'index': 0, 'delta': {'type': 'text_delta', 'text': \" you're intereste\"}}{'type': 'content_block_delta', 'index': 0, 'delta': {'type': 'text_delta', 'text': 'd in understanding'}}{'type': 'content_block_delta', 'index': 0, 'delta': {'type': 'text_delta', 'text': ' the technical'}}{'type': 'content_block_delta', 'index': 0, 'delta': {'type': 'text_delta', 'text': ' details'}}{'type': 'content_block_delta', 'index': 0, 'delta': {'type': 'text_delta', 'text': ' an'}}{'type': 'content_block_delta', 'index': 0, 'delta': {'type': 'text_delta', 'text': 'd def'}}{'type': 'content_block_delta', 'index': 0, 'delta': {'type': 'text_delta', 'text': 'enses.'}}{'type': 'content_block_stop', 'index': 0}{'type': 'message_delta', 'delta': {'stop_reason': 'end_turn', 'stop_sequence': None}, 'usage': {'output_tokens': 109}}{'type': 'message_stop', 'amazon-bedrock-invocationMetrics': {'inputTokenCount': 13, 'outputTokenCount': 109, 'invocationLatency': 2510, 'firstByteLatency': 216}}"
     ]
    }
   ],
   "source": [
    "#! /usr/bin/env python3.11\n",
    "\n",
    "import json, boto3\n",
    "\n",
    "session = boto3.Session(profile_name='renalworks-bedrock') # Replace the profile name (can be found for Windows users in /Users/{YOUR_USERNAME}/.aws/config) accordingly \n",
    "client = session.client(\"bedrock-runtime\")\n",
    "\n",
    "llmType = \"anthropic.claude-3-5-sonnet-20240620-v1:0\"\n",
    "messages_API_body = {\n",
    "    \"anthropic_version\": \"bedrock-2023-05-31\", \n",
    "    \"max_tokens\": int(500/0.75),\n",
    "    \"messages\": [\n",
    "        {\n",
    "            \"role\": \"user\",\n",
    "            \"content\": [\n",
    "                {\n",
    "                    \"type\": \"text\",\n",
    "                    \"text\": \"How does heap exploitation work?\"\n",
    "                }\n",
    "            ]\n",
    "        }\n",
    "    ]\n",
    "}\n",
    "\n",
    "response_stream = client.invoke_model_with_response_stream(\n",
    "    body=json.dumps(messages_API_body),\n",
    "    modelId=llmType,\n",
    "    accept=\"application/json\",\n",
    "    contentType=\"application/json\",\n",
    ")\n",
    "\n",
    "status_code = response_stream[\"ResponseMetadata\"][\"HTTPStatusCode\"]\n",
    "if status_code != 200:\n",
    "    raise ValueError(f\"Error invoking Bedrock API: {status_code}\")\n",
    "for response in response_stream[\"body\"]:\n",
    "    json_response = json.loads(response[\"chunk\"][\"bytes\"])\n",
    "    if 'delta' in json_response:\n",
    "        delta_obj = json_response.get('delta', None)\n",
    "        if delta_obj:\n",
    "            text = delta_obj.get('text', None)\n",
    "            print(text, end='', flush=True)"
   ]
  }
 ],
 "metadata": {
  "kernelspec": {
   "display_name": ".venv",
   "language": "python",
   "name": "python3"
  },
  "language_info": {
   "codemirror_mode": {
    "name": "ipython",
    "version": 3
   },
   "file_extension": ".py",
   "mimetype": "text/x-python",
   "name": "python",
   "nbconvert_exporter": "python",
   "pygments_lexer": "ipython3",
   "version": "3.12.1"
  }
 },
 "nbformat": 4,
 "nbformat_minor": 2
}
